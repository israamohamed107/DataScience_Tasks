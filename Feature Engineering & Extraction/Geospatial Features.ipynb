{
 "cells": [
  {
   "cell_type": "code",
   "execution_count": 1,
   "metadata": {},
   "outputs": [],
   "source": [
    "import pandas as pd\n",
    "import numpy as np\n",
    "import seaborn as sns"
   ]
  },
  {
   "cell_type": "code",
   "execution_count": 2,
   "metadata": {},
   "outputs": [],
   "source": [
    "from ip2geotools.databases.noncommercial import DbIpCity as ip2geo"
   ]
  },
  {
   "cell_type": "code",
   "execution_count": 3,
   "metadata": {},
   "outputs": [
    {
     "data": {
      "text/html": [
       "<div>\n",
       "<style scoped>\n",
       "    .dataframe tbody tr th:only-of-type {\n",
       "        vertical-align: middle;\n",
       "    }\n",
       "\n",
       "    .dataframe tbody tr th {\n",
       "        vertical-align: top;\n",
       "    }\n",
       "\n",
       "    .dataframe thead th {\n",
       "        text-align: right;\n",
       "    }\n",
       "</style>\n",
       "<table border=\"1\" class=\"dataframe\">\n",
       "  <thead>\n",
       "    <tr style=\"text-align: right;\">\n",
       "      <th></th>\n",
       "      <th>IP</th>\n",
       "      <th>UserAgent</th>\n",
       "      <th>Country</th>\n",
       "      <th>Languages</th>\n",
       "      <th>Interests</th>\n",
       "    </tr>\n",
       "  </thead>\n",
       "  <tbody>\n",
       "    <tr>\n",
       "      <th>0</th>\n",
       "      <td>1.10.195.126</td>\n",
       "      <td>Mozilla/5.0 (Windows NT 6.1; Win64; x64) Apple...</td>\n",
       "      <td>TH</td>\n",
       "      <td>english</td>\n",
       "      <td>other</td>\n",
       "    </tr>\n",
       "    <tr>\n",
       "      <th>1</th>\n",
       "      <td>1.1.217.211</td>\n",
       "      <td>Mozilla/5.0 (Windows NT 10.0; Win64; x64) Appl...</td>\n",
       "      <td>TH</td>\n",
       "      <td>thai</td>\n",
       "      <td>blog/personal homepage</td>\n",
       "    </tr>\n",
       "    <tr>\n",
       "      <th>2</th>\n",
       "      <td>1.115.198.107</td>\n",
       "      <td>Mozilla/5.0 (Windows NT 6.1) AppleWebKit/537.3...</td>\n",
       "      <td>JP</td>\n",
       "      <td>english</td>\n",
       "      <td>shop/online shopping website</td>\n",
       "    </tr>\n",
       "    <tr>\n",
       "      <th>3</th>\n",
       "      <td>1.121.152.143</td>\n",
       "      <td>Mozilla/5.0 (Linux; Android 7.0; Nexus 9 Build...</td>\n",
       "      <td>AU</td>\n",
       "      <td>english</td>\n",
       "      <td>company</td>\n",
       "    </tr>\n",
       "    <tr>\n",
       "      <th>4</th>\n",
       "      <td>1.123.135.213</td>\n",
       "      <td>Mozilla/5.0 (iPad; CPU OS 9_3_5 like Mac OS X)...</td>\n",
       "      <td>AU</td>\n",
       "      <td>english</td>\n",
       "      <td>company</td>\n",
       "    </tr>\n",
       "  </tbody>\n",
       "</table>\n",
       "</div>"
      ],
      "text/plain": [
       "              IP                                          UserAgent Country  \\\n",
       "0   1.10.195.126  Mozilla/5.0 (Windows NT 6.1; Win64; x64) Apple...      TH   \n",
       "1    1.1.217.211  Mozilla/5.0 (Windows NT 10.0; Win64; x64) Appl...      TH   \n",
       "2  1.115.198.107  Mozilla/5.0 (Windows NT 6.1) AppleWebKit/537.3...      JP   \n",
       "3  1.121.152.143  Mozilla/5.0 (Linux; Android 7.0; Nexus 9 Build...      AU   \n",
       "4  1.123.135.213  Mozilla/5.0 (iPad; CPU OS 9_3_5 like Mac OS X)...      AU   \n",
       "\n",
       "  Languages                     Interests  \n",
       "0   english                         other  \n",
       "1      thai        blog/personal homepage  \n",
       "2   english  shop/online shopping website  \n",
       "3   english                       company  \n",
       "4   english                       company  "
      ]
     },
     "execution_count": 3,
     "metadata": {},
     "output_type": "execute_result"
    }
   ],
   "source": [
    "vis_data=pd.read_csv('visitor-interests.csv')\n",
    "vis_data.head()"
   ]
  },
  {
   "cell_type": "code",
   "execution_count": 4,
   "metadata": {},
   "outputs": [
    {
     "name": "stdout",
     "output_type": "stream",
     "text": [
      "<class 'pandas.core.frame.DataFrame'>\n",
      "RangeIndex: 19926 entries, 0 to 19925\n",
      "Data columns (total 5 columns):\n",
      " #   Column     Non-Null Count  Dtype \n",
      "---  ------     --------------  ----- \n",
      " 0   IP         19926 non-null  object\n",
      " 1   UserAgent  19926 non-null  object\n",
      " 2   Country    16721 non-null  object\n",
      " 3   Languages  19926 non-null  object\n",
      " 4   Interests  19919 non-null  object\n",
      "dtypes: object(5)\n",
      "memory usage: 778.5+ KB\n"
     ]
    }
   ],
   "source": [
    "vis_data.info()"
   ]
  },
  {
   "cell_type": "code",
   "execution_count": 5,
   "metadata": {},
   "outputs": [],
   "source": [
    "vis_data.dropna(inplace=True)"
   ]
  },
  {
   "cell_type": "code",
   "execution_count": 6,
   "metadata": {},
   "outputs": [
    {
     "data": {
      "text/plain": [
       "IP           0\n",
       "UserAgent    0\n",
       "Country      0\n",
       "Languages    0\n",
       "Interests    0\n",
       "dtype: int64"
      ]
     },
     "execution_count": 6,
     "metadata": {},
     "output_type": "execute_result"
    }
   ],
   "source": [
    "vis_data.isnull().sum()"
   ]
  },
  {
   "cell_type": "code",
   "execution_count": 7,
   "metadata": {},
   "outputs": [
    {
     "data": {
      "text/html": [
       "<div>\n",
       "<style scoped>\n",
       "    .dataframe tbody tr th:only-of-type {\n",
       "        vertical-align: middle;\n",
       "    }\n",
       "\n",
       "    .dataframe tbody tr th {\n",
       "        vertical-align: top;\n",
       "    }\n",
       "\n",
       "    .dataframe thead th {\n",
       "        text-align: right;\n",
       "    }\n",
       "</style>\n",
       "<table border=\"1\" class=\"dataframe\">\n",
       "  <thead>\n",
       "    <tr style=\"text-align: right;\">\n",
       "      <th></th>\n",
       "      <th>IP</th>\n",
       "      <th>UserAgent</th>\n",
       "      <th>Country</th>\n",
       "      <th>Languages</th>\n",
       "      <th>Interests</th>\n",
       "    </tr>\n",
       "  </thead>\n",
       "  <tbody>\n",
       "    <tr>\n",
       "      <th>8692</th>\n",
       "      <td>92.97.63.135</td>\n",
       "      <td>Mozilla/5.0 (Linux; Android 5.0; SAMSUNG SM-N9...</td>\n",
       "      <td>AE</td>\n",
       "      <td>english</td>\n",
       "      <td>social network/forum</td>\n",
       "    </tr>\n",
       "    <tr>\n",
       "      <th>5434</th>\n",
       "      <td>72.83.78.116</td>\n",
       "      <td>Mozilla/5.0 (Windows NT 5.1; rv:47.0) Gecko/20...</td>\n",
       "      <td>US</td>\n",
       "      <td>english</td>\n",
       "      <td>other</td>\n",
       "    </tr>\n",
       "    <tr>\n",
       "      <th>6896</th>\n",
       "      <td>82.145.210.242</td>\n",
       "      <td>Opera/9.80 (J2ME/MIDP; Opera Mini/4.5.40312/37...</td>\n",
       "      <td>IS</td>\n",
       "      <td>english</td>\n",
       "      <td>company</td>\n",
       "    </tr>\n",
       "    <tr>\n",
       "      <th>940</th>\n",
       "      <td>14.98.137.230</td>\n",
       "      <td>Mozilla/5.0 (Windows NT 6.1) AppleWebKit/537.3...</td>\n",
       "      <td>IN</td>\n",
       "      <td>english</td>\n",
       "      <td>business directory</td>\n",
       "    </tr>\n",
       "    <tr>\n",
       "      <th>2683</th>\n",
       "      <td>45.62.47.54</td>\n",
       "      <td>Mozilla/5.0 (Windows NT 6.1; WOW64) AppleWebKi...</td>\n",
       "      <td>US</td>\n",
       "      <td>english</td>\n",
       "      <td>social network/forum</td>\n",
       "    </tr>\n",
       "  </tbody>\n",
       "</table>\n",
       "</div>"
      ],
      "text/plain": [
       "                  IP                                          UserAgent  \\\n",
       "8692    92.97.63.135  Mozilla/5.0 (Linux; Android 5.0; SAMSUNG SM-N9...   \n",
       "5434    72.83.78.116  Mozilla/5.0 (Windows NT 5.1; rv:47.0) Gecko/20...   \n",
       "6896  82.145.210.242  Opera/9.80 (J2ME/MIDP; Opera Mini/4.5.40312/37...   \n",
       "940    14.98.137.230  Mozilla/5.0 (Windows NT 6.1) AppleWebKit/537.3...   \n",
       "2683     45.62.47.54  Mozilla/5.0 (Windows NT 6.1; WOW64) AppleWebKi...   \n",
       "\n",
       "     Country Languages             Interests  \n",
       "8692      AE   english  social network/forum  \n",
       "5434      US   english                 other  \n",
       "6896      IS   english               company  \n",
       "940       IN   english    business directory  \n",
       "2683      US   english  social network/forum  "
      ]
     },
     "execution_count": 7,
     "metadata": {},
     "output_type": "execute_result"
    }
   ],
   "source": [
    "sample=vis_data.sample(50,random_state=0)\n",
    "sample.head()"
   ]
  },
  {
   "cell_type": "code",
   "execution_count": 8,
   "metadata": {},
   "outputs": [],
   "source": [
    "def lat_long(x):\n",
    "    try:\n",
    "        response = ip2geo.get(str(x) , api_key='free')\n",
    "        return pd.Series([response.latitude , response.longitude])\n",
    "    except:\n",
    "        return pd.Series([np.nan , np.nan])"
   ]
  },
  {
   "cell_type": "code",
   "execution_count": 9,
   "metadata": {},
   "outputs": [],
   "source": [
    "sample[['Lat','Long']]=sample['IP'].apply(lat_long )"
   ]
  },
  {
   "cell_type": "code",
   "execution_count": 10,
   "metadata": {},
   "outputs": [
    {
     "data": {
      "text/html": [
       "<div>\n",
       "<style scoped>\n",
       "    .dataframe tbody tr th:only-of-type {\n",
       "        vertical-align: middle;\n",
       "    }\n",
       "\n",
       "    .dataframe tbody tr th {\n",
       "        vertical-align: top;\n",
       "    }\n",
       "\n",
       "    .dataframe thead th {\n",
       "        text-align: right;\n",
       "    }\n",
       "</style>\n",
       "<table border=\"1\" class=\"dataframe\">\n",
       "  <thead>\n",
       "    <tr style=\"text-align: right;\">\n",
       "      <th></th>\n",
       "      <th>IP</th>\n",
       "      <th>UserAgent</th>\n",
       "      <th>Country</th>\n",
       "      <th>Languages</th>\n",
       "      <th>Interests</th>\n",
       "      <th>Lat</th>\n",
       "      <th>Long</th>\n",
       "    </tr>\n",
       "  </thead>\n",
       "  <tbody>\n",
       "    <tr>\n",
       "      <th>8692</th>\n",
       "      <td>92.97.63.135</td>\n",
       "      <td>Mozilla/5.0 (Linux; Android 5.0; SAMSUNG SM-N9...</td>\n",
       "      <td>AE</td>\n",
       "      <td>english</td>\n",
       "      <td>social network/forum</td>\n",
       "      <td>25.346150</td>\n",
       "      <td>55.421063</td>\n",
       "    </tr>\n",
       "    <tr>\n",
       "      <th>5434</th>\n",
       "      <td>72.83.78.116</td>\n",
       "      <td>Mozilla/5.0 (Windows NT 5.1; rv:47.0) Gecko/20...</td>\n",
       "      <td>US</td>\n",
       "      <td>english</td>\n",
       "      <td>other</td>\n",
       "      <td>38.895037</td>\n",
       "      <td>-77.036543</td>\n",
       "    </tr>\n",
       "    <tr>\n",
       "      <th>6896</th>\n",
       "      <td>82.145.210.242</td>\n",
       "      <td>Opera/9.80 (J2ME/MIDP; Opera Mini/4.5.40312/37...</td>\n",
       "      <td>IS</td>\n",
       "      <td>english</td>\n",
       "      <td>company</td>\n",
       "      <td>52.372760</td>\n",
       "      <td>4.893604</td>\n",
       "    </tr>\n",
       "    <tr>\n",
       "      <th>940</th>\n",
       "      <td>14.98.137.230</td>\n",
       "      <td>Mozilla/5.0 (Windows NT 6.1) AppleWebKit/537.3...</td>\n",
       "      <td>IN</td>\n",
       "      <td>english</td>\n",
       "      <td>business directory</td>\n",
       "      <td>19.075990</td>\n",
       "      <td>72.877393</td>\n",
       "    </tr>\n",
       "    <tr>\n",
       "      <th>2683</th>\n",
       "      <td>45.62.47.54</td>\n",
       "      <td>Mozilla/5.0 (Windows NT 6.1; WOW64) AppleWebKi...</td>\n",
       "      <td>US</td>\n",
       "      <td>english</td>\n",
       "      <td>social network/forum</td>\n",
       "      <td>22.318775</td>\n",
       "      <td>114.161839</td>\n",
       "    </tr>\n",
       "  </tbody>\n",
       "</table>\n",
       "</div>"
      ],
      "text/plain": [
       "                  IP                                          UserAgent  \\\n",
       "8692    92.97.63.135  Mozilla/5.0 (Linux; Android 5.0; SAMSUNG SM-N9...   \n",
       "5434    72.83.78.116  Mozilla/5.0 (Windows NT 5.1; rv:47.0) Gecko/20...   \n",
       "6896  82.145.210.242  Opera/9.80 (J2ME/MIDP; Opera Mini/4.5.40312/37...   \n",
       "940    14.98.137.230  Mozilla/5.0 (Windows NT 6.1) AppleWebKit/537.3...   \n",
       "2683     45.62.47.54  Mozilla/5.0 (Windows NT 6.1; WOW64) AppleWebKi...   \n",
       "\n",
       "     Country Languages             Interests        Lat        Long  \n",
       "8692      AE   english  social network/forum  25.346150   55.421063  \n",
       "5434      US   english                 other  38.895037  -77.036543  \n",
       "6896      IS   english               company  52.372760    4.893604  \n",
       "940       IN   english    business directory  19.075990   72.877393  \n",
       "2683      US   english  social network/forum  22.318775  114.161839  "
      ]
     },
     "execution_count": 10,
     "metadata": {},
     "output_type": "execute_result"
    }
   ],
   "source": [
    "sample.head()"
   ]
  },
  {
   "cell_type": "code",
   "execution_count": 11,
   "metadata": {},
   "outputs": [],
   "source": [
    "sample.dropna(inplace=True)"
   ]
  },
  {
   "cell_type": "code",
   "execution_count": 12,
   "metadata": {},
   "outputs": [],
   "source": [
    "from geopy.distance import great_circle "
   ]
  },
  {
   "cell_type": "code",
   "execution_count": 13,
   "metadata": {},
   "outputs": [],
   "source": [
    "# eygypt_coordinates=[30.033333,31.233334] \n",
    "def dist_from_egypt(df):\n",
    "    lat_lon=[df['Lat'],df['Long']]\n",
    "    return great_circle([30.033333,31.233334],lat_lon).kilometers\n"
   ]
  },
  {
   "cell_type": "code",
   "execution_count": 14,
   "metadata": {},
   "outputs": [],
   "source": [
    "sample['Dist_From_Egypt (km)']=sample.apply(dist_from_egypt,axis=1)"
   ]
  },
  {
   "cell_type": "code",
   "execution_count": 15,
   "metadata": {},
   "outputs": [
    {
     "data": {
      "text/html": [
       "<div>\n",
       "<style scoped>\n",
       "    .dataframe tbody tr th:only-of-type {\n",
       "        vertical-align: middle;\n",
       "    }\n",
       "\n",
       "    .dataframe tbody tr th {\n",
       "        vertical-align: top;\n",
       "    }\n",
       "\n",
       "    .dataframe thead th {\n",
       "        text-align: right;\n",
       "    }\n",
       "</style>\n",
       "<table border=\"1\" class=\"dataframe\">\n",
       "  <thead>\n",
       "    <tr style=\"text-align: right;\">\n",
       "      <th></th>\n",
       "      <th>IP</th>\n",
       "      <th>UserAgent</th>\n",
       "      <th>Country</th>\n",
       "      <th>Languages</th>\n",
       "      <th>Interests</th>\n",
       "      <th>Lat</th>\n",
       "      <th>Long</th>\n",
       "      <th>Dist_From_Egypt (km)</th>\n",
       "    </tr>\n",
       "  </thead>\n",
       "  <tbody>\n",
       "    <tr>\n",
       "      <th>8692</th>\n",
       "      <td>92.97.63.135</td>\n",
       "      <td>Mozilla/5.0 (Linux; Android 5.0; SAMSUNG SM-N9...</td>\n",
       "      <td>AE</td>\n",
       "      <td>english</td>\n",
       "      <td>social network/forum</td>\n",
       "      <td>25.346150</td>\n",
       "      <td>55.421063</td>\n",
       "      <td>2432.931286</td>\n",
       "    </tr>\n",
       "    <tr>\n",
       "      <th>5434</th>\n",
       "      <td>72.83.78.116</td>\n",
       "      <td>Mozilla/5.0 (Windows NT 5.1; rv:47.0) Gecko/20...</td>\n",
       "      <td>US</td>\n",
       "      <td>english</td>\n",
       "      <td>other</td>\n",
       "      <td>38.895037</td>\n",
       "      <td>-77.036543</td>\n",
       "      <td>9349.968292</td>\n",
       "    </tr>\n",
       "    <tr>\n",
       "      <th>6896</th>\n",
       "      <td>82.145.210.242</td>\n",
       "      <td>Opera/9.80 (J2ME/MIDP; Opera Mini/4.5.40312/37...</td>\n",
       "      <td>IS</td>\n",
       "      <td>english</td>\n",
       "      <td>company</td>\n",
       "      <td>52.372760</td>\n",
       "      <td>4.893604</td>\n",
       "      <td>3283.900075</td>\n",
       "    </tr>\n",
       "    <tr>\n",
       "      <th>940</th>\n",
       "      <td>14.98.137.230</td>\n",
       "      <td>Mozilla/5.0 (Windows NT 6.1) AppleWebKit/537.3...</td>\n",
       "      <td>IN</td>\n",
       "      <td>english</td>\n",
       "      <td>business directory</td>\n",
       "      <td>19.075990</td>\n",
       "      <td>72.877393</td>\n",
       "      <td>4358.276273</td>\n",
       "    </tr>\n",
       "    <tr>\n",
       "      <th>2683</th>\n",
       "      <td>45.62.47.54</td>\n",
       "      <td>Mozilla/5.0 (Windows NT 6.1; WOW64) AppleWebKi...</td>\n",
       "      <td>US</td>\n",
       "      <td>english</td>\n",
       "      <td>social network/forum</td>\n",
       "      <td>22.318775</td>\n",
       "      <td>114.161839</td>\n",
       "      <td>8141.919088</td>\n",
       "    </tr>\n",
       "  </tbody>\n",
       "</table>\n",
       "</div>"
      ],
      "text/plain": [
       "                  IP                                          UserAgent  \\\n",
       "8692    92.97.63.135  Mozilla/5.0 (Linux; Android 5.0; SAMSUNG SM-N9...   \n",
       "5434    72.83.78.116  Mozilla/5.0 (Windows NT 5.1; rv:47.0) Gecko/20...   \n",
       "6896  82.145.210.242  Opera/9.80 (J2ME/MIDP; Opera Mini/4.5.40312/37...   \n",
       "940    14.98.137.230  Mozilla/5.0 (Windows NT 6.1) AppleWebKit/537.3...   \n",
       "2683     45.62.47.54  Mozilla/5.0 (Windows NT 6.1; WOW64) AppleWebKi...   \n",
       "\n",
       "     Country Languages             Interests        Lat        Long  \\\n",
       "8692      AE   english  social network/forum  25.346150   55.421063   \n",
       "5434      US   english                 other  38.895037  -77.036543   \n",
       "6896      IS   english               company  52.372760    4.893604   \n",
       "940       IN   english    business directory  19.075990   72.877393   \n",
       "2683      US   english  social network/forum  22.318775  114.161839   \n",
       "\n",
       "      Dist_From_Egypt (km)  \n",
       "8692           2432.931286  \n",
       "5434           9349.968292  \n",
       "6896           3283.900075  \n",
       "940            4358.276273  \n",
       "2683           8141.919088  "
      ]
     },
     "execution_count": 15,
     "metadata": {},
     "output_type": "execute_result"
    }
   ],
   "source": [
    "sample.head()"
   ]
  },
  {
   "cell_type": "code",
   "execution_count": null,
   "metadata": {},
   "outputs": [],
   "source": []
  }
 ],
 "metadata": {
  "kernelspec": {
   "display_name": "Python 3",
   "language": "python",
   "name": "python3"
  },
  "language_info": {
   "codemirror_mode": {
    "name": "ipython",
    "version": 3
   },
   "file_extension": ".py",
   "mimetype": "text/x-python",
   "name": "python",
   "nbconvert_exporter": "python",
   "pygments_lexer": "ipython3",
   "version": "3.7.6"
  }
 },
 "nbformat": 4,
 "nbformat_minor": 4
}
